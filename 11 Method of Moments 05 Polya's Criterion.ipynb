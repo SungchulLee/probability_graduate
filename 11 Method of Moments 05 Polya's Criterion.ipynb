{
 "cells": [
  {
   "cell_type": "markdown",
   "metadata": {},
   "source": [
    "<img src=\"img/Screen Shot 2021-09-24 at 3.34.57 PM.png\" width=\"100%\">\n",
    "\n",
    "[Sun](https://drive.google.com/file/d/1L8APEYPnh-PQqAb0X0t0TYtd1g--ZzmC/view)"
   ]
  },
  {
   "cell_type": "markdown",
   "metadata": {},
   "source": [
    "$$\\begin{array}{llllllllll}\n",
    "\\text{Name}&&\\text{PDF or PMF}&&\\text{Characteristic Function}\\\\\n",
    "\\displaystyle \\text{Uniform Distribution}&&\\displaystyle \\frac{1}{b-a}\\quad\\text{for $a<x<b$}&&\\displaystyle \\frac{e^{itb}-e^{ita}}{it(b-a)}\\\\\n",
    "\\displaystyle U(-1/2,1/2)&&\\displaystyle 1\\quad\\text{for $-1/2<x<1/2$}&&\\displaystyle \\frac{\\sin \\frac{1}{2}t}{\\frac{1}{2}t}\\\\\n",
    "\\displaystyle \\text{Triangular Distribution}&&\\displaystyle (1-|x|)^+&&\\displaystyle 2\\frac{1-\\cos t}{t^2}\\\\\n",
    "\\displaystyle \\text{Polya's Distribution}&&\\displaystyle \\frac{1-\\cos x}{\\pi x^2}&&\\displaystyle (1-|t|)^+\\\\\n",
    "\\end{array}$$"
   ]
  },
  {
   "cell_type": "markdown",
   "metadata": {},
   "source": [
    "<img src=\"img/Screen Shot 2021-10-14 at 11.21.24 AM.png\" width=\"100%\">\n",
    "<img src=\"img/Screen Shot 2021-10-14 at 11.24.40 AM.png\" width=\"100%\">\n",
    "\n",
    "[Durrett](https://services.math.duke.edu/~rtd/PTE/PTE5_011119.pdf)"
   ]
  },
  {
   "cell_type": "code",
   "execution_count": null,
   "metadata": {},
   "outputs": [],
   "source": []
  }
 ],
 "metadata": {
  "kernelspec": {
   "display_name": "Python 3",
   "language": "python",
   "name": "python3"
  },
  "language_info": {
   "codemirror_mode": {
    "name": "ipython",
    "version": 3
   },
   "file_extension": ".py",
   "mimetype": "text/x-python",
   "name": "python",
   "nbconvert_exporter": "python",
   "pygments_lexer": "ipython3",
   "version": "3.8.5"
  }
 },
 "nbformat": 4,
 "nbformat_minor": 5
}
