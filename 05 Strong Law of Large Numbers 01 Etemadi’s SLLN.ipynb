{
 "cells": [
  {
   "cell_type": "markdown",
   "metadata": {},
   "source": [
    "<img src='img/Screen Shot 2021-09-18 at 11.05.14 AM.png' width=100%>\n",
    "\n",
    "[Rongfeng Sun](https://drive.google.com/file/d/1yHFt0rvgBFu47pPqZn9kxG7BtHM6Zdt7/view)"
   ]
  },
  {
   "cell_type": "markdown",
   "metadata": {},
   "source": [
    "<img src='img/Screen Shot 2021-09-18 at 11.06.55 AM.png'>\n",
    "\n",
    "[Durrett](https://services.math.duke.edu/~rtd/PTE/PTE5_011119.pdf)"
   ]
  },
  {
   "cell_type": "markdown",
   "metadata": {},
   "source": [
    "# Step 1 : Truncation\n",
    "$$\n",
    "\\displaystyle Y_k=X_k1(|X_k|\\le k)\n",
    "$$"
   ]
  },
  {
   "cell_type": "markdown",
   "metadata": {},
   "source": [
    "<img src='img/Screen Shot 2021-09-18 at 11.11.03 AM.png' width=70%>\n",
    "\n",
    "[Durrett](https://services.math.duke.edu/~rtd/PTE/PTE5_011119.pdf)"
   ]
  },
  {
   "cell_type": "markdown",
   "metadata": {},
   "source": [
    "# Step 2: Variance Estimation\n",
    "$$\n",
    "\\displaystyle \\sum_{k=1}^\\infty \\frac{Var(Y_k)}{k^2}\\le 4\\mathbb{E}|X_1|<\\infty\n",
    "$$"
   ]
  },
  {
   "cell_type": "markdown",
   "metadata": {},
   "source": [
    "<img src='img/Screen Shot 2021-09-18 at 11.11.37 AM.png' width=70%>\n",
    "\n",
    "[Durrett](https://services.math.duke.edu/~rtd/PTE/PTE5_011119.pdf)"
   ]
  },
  {
   "cell_type": "markdown",
   "metadata": {},
   "source": [
    "# Step 3: Subsequencing\n",
    "\n",
    "<img src='img/Screen Shot 2021-09-18 at 11.14.06 AM.png' width=70%>\n",
    "<img src='img/Screen Shot 2021-09-18 at 11.14.19 AM.png' width=70%>\n",
    "\n",
    "[Durrett](https://services.math.duke.edu/~rtd/PTE/PTE5_011119.pdf)"
   ]
  },
  {
   "cell_type": "code",
   "execution_count": null,
   "metadata": {},
   "outputs": [],
   "source": []
  }
 ],
 "metadata": {
  "kernelspec": {
   "display_name": "Python 3",
   "language": "python",
   "name": "python3"
  },
  "language_info": {
   "codemirror_mode": {
    "name": "ipython",
    "version": 3
   },
   "file_extension": ".py",
   "mimetype": "text/x-python",
   "name": "python",
   "nbconvert_exporter": "python",
   "pygments_lexer": "ipython3",
   "version": "3.8.5"
  }
 },
 "nbformat": 4,
 "nbformat_minor": 4
}
