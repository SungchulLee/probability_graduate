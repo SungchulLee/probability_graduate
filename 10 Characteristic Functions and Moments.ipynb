{
 "cells": [
  {
   "cell_type": "markdown",
   "id": "handled-estonia",
   "metadata": {},
   "source": [
    "<img src=\"img/Screen Shot 2021-10-14 at 11.02.40 AM.png\" width=\"100%\">\n",
    "\n",
    "[Sun](https://drive.google.com/file/d/1L8APEYPnh-PQqAb0X0t0TYtd1g--ZzmC/view)"
   ]
  },
  {
   "cell_type": "markdown",
   "id": "prescribed-burns",
   "metadata": {},
   "source": [
    "$$\n",
    "\\mathbb{P}\\left(|X|\\ge\\frac{2}{t}\\right)\\le\\frac{1}{t}\\int_{-t}^t \\left(1-\\varphi(s)\\right)ds \n",
    "$$\n",
    "$$$$\n",
    "$$\n",
    "\\left|1-\\varphi(t)\\right| \\le |t|L+2\\mathbb{P}\\left(|X|\\ge L\\right)\n",
    "$$"
   ]
  },
  {
   "cell_type": "markdown",
   "id": "alternate-exposure",
   "metadata": {},
   "source": [
    "<img src=\"img/Screen Shot 2021-10-14 at 11.03.02 AM.png\" width=\"100%\">\n",
    "\n",
    "[Sun](https://drive.google.com/file/d/1L8APEYPnh-PQqAb0X0t0TYtd1g--ZzmC/view)"
   ]
  },
  {
   "cell_type": "code",
   "execution_count": null,
   "id": "announced-interstate",
   "metadata": {},
   "outputs": [],
   "source": []
  }
 ],
 "metadata": {
  "kernelspec": {
   "display_name": "Python 3",
   "language": "python",
   "name": "python3"
  },
  "language_info": {
   "codemirror_mode": {
    "name": "ipython",
    "version": 3
   },
   "file_extension": ".py",
   "mimetype": "text/x-python",
   "name": "python",
   "nbconvert_exporter": "python",
   "pygments_lexer": "ipython3",
   "version": "3.7.10"
  }
 },
 "nbformat": 4,
 "nbformat_minor": 5
}
