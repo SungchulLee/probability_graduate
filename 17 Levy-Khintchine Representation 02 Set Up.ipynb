{
 "cells": [
  {
   "cell_type": "markdown",
   "metadata": {},
   "source": [
    "<img src='img/Screen Shot 2021-11-01 at 12.01.09 PM.png'>\n",
    "<img src='img/Screen Shot 2021-11-01 at 12.11.26 PM.png'>\n",
    "<img src='img/Screen Shot 2021-11-01 at 12.12.09 PM.png'>\n",
    "\n",
    "[Sun](https://drive.google.com/file/d/1d5KKKik19Nu6Ylqw1rj15X-iFADDqUbN/view)"
   ]
  }
 ],
 "metadata": {
  "kernelspec": {
   "display_name": "Python 3",
   "language": "python",
   "name": "python3"
  },
  "language_info": {
   "codemirror_mode": {
    "name": "ipython",
    "version": 3
   },
   "file_extension": ".py",
   "mimetype": "text/x-python",
   "name": "python",
   "nbconvert_exporter": "python",
   "pygments_lexer": "ipython3",
   "version": "3.8.5"
  }
 },
 "nbformat": 4,
 "nbformat_minor": 5
}
