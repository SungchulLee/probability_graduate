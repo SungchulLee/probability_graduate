{
 "cells": [
  {
   "cell_type": "markdown",
   "id": "medical-community",
   "metadata": {},
   "source": [
    "<img src='img/Screen Shot 2021-10-09 at 9.12.33 PM.png'>\n",
    "<img src='img/Screen Shot 2021-10-09 at 9.12.49 PM.png'>\n",
    "\n",
    "[Sun](https://drive.google.com/file/d/1-NXH-S5Ossc6-os5nT6o6Hcqw_YV5Ajy/view)"
   ]
  }
 ],
 "metadata": {
  "kernelspec": {
   "display_name": "Python 3",
   "language": "python",
   "name": "python3"
  },
  "language_info": {
   "codemirror_mode": {
    "name": "ipython",
    "version": 3
   },
   "file_extension": ".py",
   "mimetype": "text/x-python",
   "name": "python",
   "nbconvert_exporter": "python",
   "pygments_lexer": "ipython3",
   "version": "3.8.8"
  }
 },
 "nbformat": 4,
 "nbformat_minor": 5
}
