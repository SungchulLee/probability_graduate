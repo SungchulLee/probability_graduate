{
 "cells": [
  {
   "cell_type": "markdown",
   "id": "explicit-pastor",
   "metadata": {},
   "source": [
    "<img src='img/Screen Shot 2021-11-01 at 10.23.26 AM.png'>\n",
    "<img src='img/Screen Shot 2021-11-01 at 10.23.38 AM.png'>\n",
    "<img src='img/Screen Shot 2021-11-01 at 10.42.05 AM.png'>\n",
    "\n",
    "[Showing 𝜑(𝑡)≠0 when 𝜑 is a characteristic function of an infinitely divisible distribution](https://math.stackexchange.com/questions/416412/showing-varphit-neq-0-when-varphi-is-a-characteristic-function-of-an-inf)"
   ]
  },
  {
   "cell_type": "code",
   "execution_count": null,
   "id": "assumed-surprise",
   "metadata": {},
   "outputs": [],
   "source": []
  }
 ],
 "metadata": {
  "kernelspec": {
   "display_name": "Python 3",
   "language": "python",
   "name": "python3"
  },
  "language_info": {
   "codemirror_mode": {
    "name": "ipython",
    "version": 3
   },
   "file_extension": ".py",
   "mimetype": "text/x-python",
   "name": "python",
   "nbconvert_exporter": "python",
   "pygments_lexer": "ipython3",
   "version": "3.8.8"
  }
 },
 "nbformat": 4,
 "nbformat_minor": 5
}
