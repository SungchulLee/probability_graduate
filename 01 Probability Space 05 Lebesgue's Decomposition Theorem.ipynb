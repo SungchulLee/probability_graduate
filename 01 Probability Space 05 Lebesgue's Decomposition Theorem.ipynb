{
 "cells": [
  {
   "cell_type": "markdown",
   "metadata": {},
   "source": [
    "# Lebesgue's Decomposition Theorem\n",
    "For every two $\\sigma$-finite signed measures ${\\displaystyle \\mu }$  and ${\\displaystyle \\nu }$  on a measurable space ${\\displaystyle (\\Omega ,\\Sigma ),}$ there exist two $\\sigma$-finite signed measures ${\\displaystyle \\nu _{0}}$ and ${\\displaystyle \\nu _{1}}$ such that:\n",
    "$$\\begin{array}{lll}\n",
    "(1)&&{\\displaystyle \\nu =\\nu _{0}+\\nu _{1}}\\\\\n",
    "(2)&&{\\displaystyle \\nu _{0}\\ll \\mu }\\quad\\text{(that is, ${\\displaystyle \\nu _{0}}$ is absolutely continuous with respect to ${\\displaystyle \\mu }$)}\\\\\n",
    "(3)&&{\\displaystyle \\nu _{1}\\perp \\mu }\\quad\\text{(that is, ${\\displaystyle \\nu _{1}}$ and ${\\displaystyle \\mu }$  are singular)}\n",
    "\\end{array}$$\n",
    "These two measures are uniquely determined by ${\\displaystyle \\mu }$ and ${\\displaystyle \\nu }$."
   ]
  },
  {
   "cell_type": "markdown",
   "metadata": {},
   "source": [
    "# Lebesgue's Decomposition Theorem on $\\mathbb{R}$\n",
    "The decomposition of the singular part of a regular Borel measure on the real line can be refined:[4]\n",
    "$$\n",
    "{\\displaystyle \\,\\nu =\\nu _{\\mathrm {cont} }+\\nu _{\\mathrm {sing} }+\\nu _{\\mathrm {pp} }}\n",
    "$$\n",
    "where\n",
    "$\\nu _{\\mathrm {cont} }$ is the absolutely continuous part\n",
    "$\\nu _{\\mathrm {sing} }$ is the singular continuous part\n",
    "$\\nu _{\\mathrm {pp} }$ is the pure point part (a discrete measure)."
   ]
  },
  {
   "cell_type": "markdown",
   "metadata": {},
   "source": [
    "# Reference\n",
    "\n",
    "[wiki](https://en.wikipedia.org/wiki/Lebesgue%27s_decomposition_theorem)"
   ]
  },
  {
   "cell_type": "code",
   "execution_count": null,
   "metadata": {},
   "outputs": [],
   "source": []
  }
 ],
 "metadata": {
  "kernelspec": {
   "display_name": "Python 3",
   "language": "python",
   "name": "python3"
  },
  "language_info": {
   "codemirror_mode": {
    "name": "ipython",
    "version": 3
   },
   "file_extension": ".py",
   "mimetype": "text/x-python",
   "name": "python",
   "nbconvert_exporter": "python",
   "pygments_lexer": "ipython3",
   "version": "3.8.5"
  }
 },
 "nbformat": 4,
 "nbformat_minor": 4
}
