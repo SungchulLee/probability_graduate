{
 "cells": [
  {
   "cell_type": "markdown",
   "metadata": {},
   "source": [
    "# $\\pi$\n",
    "A collection ${\\cal P}$ of events is a $\\pi$ system if \n",
    "$$\\begin{array}{lll}\n",
    "(1)&&A\\cap B\\in{\\cal P}\\text{ for }A\\in{\\cal P},B\\in{\\cal P}\\\\\n",
    "\\end{array}$$"
   ]
  },
  {
   "cell_type": "markdown",
   "metadata": {},
   "source": [
    "# $\\lambda$\n",
    "A collection ${\\cal L}$ of events is a $\\lambda$ system if \n",
    "$$\\begin{array}{lll}\n",
    "(1)&&\\Omega\\in{\\cal L}\\\\\n",
    "(2)&&B\\setminus A\\in{\\cal L}\\text{ for }A\\in{\\cal L},B\\in{\\cal L}\\text{ with }A\\subset B\\\\\n",
    "(3)&&A\\in{\\cal L}\\text{ for }A_n\\uparrow A\\text{ with }A_n\\in{\\cal L}\\\\\n",
    "\\end{array}$$"
   ]
  },
  {
   "cell_type": "markdown",
   "metadata": {},
   "source": [
    "# Dynkin's $\\pi-\\lambda$ Theorem\n",
    "For a $\\pi$ system ${\\cal P}$ and $\\lambda$ system ${\\cal L}$\n",
    "$$\n",
    "{\\cal P}\\subset{\\cal L}\\quad\\Rightarrow\\quad\\sigma({\\cal P})\\subset{\\cal L}\n",
    "$$"
   ]
  }
 ],
 "metadata": {
  "kernelspec": {
   "display_name": "Python 3",
   "language": "python",
   "name": "python3"
  },
  "language_info": {
   "codemirror_mode": {
    "name": "ipython",
    "version": 3
   },
   "file_extension": ".py",
   "mimetype": "text/x-python",
   "name": "python",
   "nbconvert_exporter": "python",
   "pygments_lexer": "ipython3",
   "version": "3.8.5"
  }
 },
 "nbformat": 4,
 "nbformat_minor": 4
}
