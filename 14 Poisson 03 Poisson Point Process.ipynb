{
 "cells": [
  {
   "cell_type": "markdown",
   "id": "regional-eclipse",
   "metadata": {},
   "source": [
    "<img src=\"img/Screen Shot 2021-10-19 at 11.34.48 AM.png\" width=\"100%\">\n",
    "\n",
    "[Sun](https://drive.google.com/file/d/1beeTLVbuXEQabqUHReI3K0eJiZ7xfek3/view)"
   ]
  },
  {
   "cell_type": "code",
   "execution_count": null,
   "id": "located-theory",
   "metadata": {},
   "outputs": [],
   "source": []
  }
 ],
 "metadata": {
  "kernelspec": {
   "display_name": "Python 3",
   "language": "python",
   "name": "python3"
  },
  "language_info": {
   "codemirror_mode": {
    "name": "ipython",
    "version": 3
   },
   "file_extension": ".py",
   "mimetype": "text/x-python",
   "name": "python",
   "nbconvert_exporter": "python",
   "pygments_lexer": "ipython3",
   "version": "3.7.10"
  }
 },
 "nbformat": 4,
 "nbformat_minor": 5
}
