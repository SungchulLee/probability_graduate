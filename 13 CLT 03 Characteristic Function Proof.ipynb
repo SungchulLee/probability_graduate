{
 "cells": [
  {
   "cell_type": "markdown",
   "metadata": {},
   "source": [
    "<img src=\"img/Screen Shot 2021-10-08 at 8.19.30 AM.png\" width=\"100%\">\n",
    "<img src=\"img/Screen Shot 2021-10-08 at 8.19.45 AM.png\" width=\"100%\">\n",
    "<img src=\"img/Screen Shot 2021-10-08 at 8.19.53 AM.png\" width=\"100%\">\n",
    "\n",
    "[Sun](https://drive.google.com/file/d/1beeTLVbuXEQabqUHReI3K0eJiZ7xfek3/view)"
   ]
  },
  {
   "cell_type": "markdown",
   "metadata": {},
   "source": [
    "<img src=\"img/Screen Shot 2021-10-08 at 8.12.14 AM.png\" width=\"100%\">\n",
    "<img src=\"img/Screen Shot 2021-10-08 at 8.12.25 AM.png\" width=\"100%\">\n",
    "\n",
    "[Durrett](https://services.math.duke.edu/~rtd/PTE/PTE5_011119.pdf)"
   ]
  },
  {
   "cell_type": "markdown",
   "metadata": {},
   "source": [
    "<img src=\"img/Screen Shot 2021-10-08 at 8.15.44 AM.png\" width=\"100%\">\n",
    "<img src=\"img/Screen Shot 2021-10-08 at 8.16.55 AM.png\" width=\"100%\">\n",
    "\n",
    "[Durrett](https://services.math.duke.edu/~rtd/PTE/PTE5_011119.pdf)"
   ]
  },
  {
   "cell_type": "markdown",
   "metadata": {},
   "source": [
    "<img src=\"img/Screen Shot 2021-10-08 at 8.18.03 AM.png\" width=\"100%\">\n",
    "\n",
    "[Durrett](https://services.math.duke.edu/~rtd/PTE/PTE5_011119.pdf)"
   ]
  },
  {
   "cell_type": "code",
   "execution_count": null,
   "metadata": {},
   "outputs": [],
   "source": []
  },
  {
   "cell_type": "code",
   "execution_count": null,
   "metadata": {},
   "outputs": [],
   "source": []
  }
 ],
 "metadata": {
  "kernelspec": {
   "display_name": "Python 3",
   "language": "python",
   "name": "python3"
  },
  "language_info": {
   "codemirror_mode": {
    "name": "ipython",
    "version": 3
   },
   "file_extension": ".py",
   "mimetype": "text/x-python",
   "name": "python",
   "nbconvert_exporter": "python",
   "pygments_lexer": "ipython3",
   "version": "3.8.5"
  }
 },
 "nbformat": 4,
 "nbformat_minor": 5
}
