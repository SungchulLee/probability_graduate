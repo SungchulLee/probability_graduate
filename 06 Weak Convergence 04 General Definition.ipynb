{
 "cells": [
  {
   "cell_type": "markdown",
   "metadata": {},
   "source": [
    "<img src=\"img/Screen Shot 2021-09-23 at 6.06.36 PM.png\" width=\"80%\">\n",
    "\n",
    "[Durrett](https://services.math.duke.edu/~rtd/PTE/pte.html)"
   ]
  },
  {
   "cell_type": "markdown",
   "metadata": {},
   "source": [
    "<img src='img/Screen Shot 2021-09-17 at 4.45.25 PM.png'>\n",
    "\n",
    "[Rongfeng Sun](https://drive.google.com/file/d/1JELYtdRcyJKPGI1niBW74GlWtXUEIISl/view)"
   ]
  }
 ],
 "metadata": {
  "kernelspec": {
   "display_name": "Python 3",
   "language": "python",
   "name": "python3"
  },
  "language_info": {
   "codemirror_mode": {
    "name": "ipython",
    "version": 3
   },
   "file_extension": ".py",
   "mimetype": "text/x-python",
   "name": "python",
   "nbconvert_exporter": "python",
   "pygments_lexer": "ipython3",
   "version": "3.8.5"
  }
 },
 "nbformat": 4,
 "nbformat_minor": 4
}
