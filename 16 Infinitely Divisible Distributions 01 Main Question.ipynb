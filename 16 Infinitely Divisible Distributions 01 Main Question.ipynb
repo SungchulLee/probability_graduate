{
 "cells": [
  {
   "cell_type": "markdown",
   "id": "29dab65e",
   "metadata": {},
   "source": [
    "<img src='img/Screen Shot 2021-10-09 at 9.52.43 PM.png'>\n",
    "\n",
    "[Sun](https://drive.google.com/file/d/1Ft6rdrDTmq3Y9duz5_LQtuTEV84Jq-w8/view)"
   ]
  },
  {
   "cell_type": "markdown",
   "id": "58185093",
   "metadata": {},
   "source": [
    "$$\\begin{array}{lll}\n",
    "\\text{Lindeberg Condition}&&\\sum_{i=1}^n\\mathbb{E}\\left[X_{n,i}^21_{|X_{n,i}|\\ge\\varepsilon}\\right]\\rightarrow0\\\\\n",
    "\\\\\n",
    "\\text{Uniformly Infinitesimality Condition}&&\\max_{1\\le i\\le n}\\mathbb{P}\\left[|X_{n,i}|\\ge\\varepsilon\\right]\\rightarrow0\\\\\n",
    "\\end{array}$$"
   ]
  },
  {
   "cell_type": "code",
   "execution_count": null,
   "id": "36cd9d4c",
   "metadata": {},
   "outputs": [],
   "source": []
  }
 ],
 "metadata": {
  "kernelspec": {
   "display_name": "Python 3",
   "language": "python",
   "name": "python3"
  },
  "language_info": {
   "codemirror_mode": {
    "name": "ipython",
    "version": 3
   },
   "file_extension": ".py",
   "mimetype": "text/x-python",
   "name": "python",
   "nbconvert_exporter": "python",
   "pygments_lexer": "ipython3",
   "version": "3.8.8"
  }
 },
 "nbformat": 4,
 "nbformat_minor": 5
}
