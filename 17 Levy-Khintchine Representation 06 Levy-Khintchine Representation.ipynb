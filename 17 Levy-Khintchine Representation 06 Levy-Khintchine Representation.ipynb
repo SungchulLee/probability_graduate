{
 "cells": [
  {
   "cell_type": "markdown",
   "id": "4a92d097",
   "metadata": {},
   "source": [
    "# Standard Choice of Bounded Continuous $\\theta(x)=x+O(|x|^3)$\n",
    "$$\n",
    "\\theta(x)=\\frac{x}{1+x^2}\\quad\\text{or}\\quad\\theta(x)=\\sin(x)\n",
    "$$"
   ]
  },
  {
   "cell_type": "markdown",
   "id": "1733825e",
   "metadata": {},
   "source": [
    "# Standard Choice of Bounded $\\theta(x)=x+O(|x|^2)$\n",
    "$$\n",
    "\\theta(x)=x1_{\\{|x|\\le 1\\}}\n",
    "$$"
   ]
  },
  {
   "cell_type": "markdown",
   "id": "38fbfe27",
   "metadata": {},
   "source": [
    "<img src='img/Screen Shot 2021-11-01 at 12.27.31 PM.png'>\n",
    "<img src='img/Screen Shot 2021-11-01 at 12.27.42 PM.png'>\n",
    "<img src='img/Screen Shot 2021-11-01 at 12.28.14 PM.png'>\n",
    "\n",
    "[Sun](https://drive.google.com/file/d/1d5KKKik19Nu6Ylqw1rj15X-iFADDqUbN/view)"
   ]
  }
 ],
 "metadata": {
  "kernelspec": {
   "display_name": "Python 3",
   "language": "python",
   "name": "python3"
  },
  "language_info": {
   "codemirror_mode": {
    "name": "ipython",
    "version": 3
   },
   "file_extension": ".py",
   "mimetype": "text/x-python",
   "name": "python",
   "nbconvert_exporter": "python",
   "pygments_lexer": "ipython3",
   "version": "3.8.8"
  }
 },
 "nbformat": 4,
 "nbformat_minor": 5
}
