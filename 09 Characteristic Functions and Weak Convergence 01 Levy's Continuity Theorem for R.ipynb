{
 "cells": [
  {
   "cell_type": "markdown",
   "id": "heard-execution",
   "metadata": {},
   "source": [
    "<img src=\"img/Screen Shot 2021-09-24 at 2.38.58 PM.png\" width=\"100%\">\n",
    "\n",
    "[Sun](https://drive.google.com/file/d/1L8APEYPnh-PQqAb0X0t0TYtd1g--ZzmC/view)"
   ]
  },
  {
   "cell_type": "markdown",
   "id": "rational-working",
   "metadata": {},
   "source": [
    "$$\n",
    "\\mathbb{P}\\left(|X|\\ge\\frac{2}{t}\\right)\\le\\frac{1}{t}\\int_{-t}^t \\left(1-\\varphi(s)\\right)ds \n",
    "$$\n",
    "$$$$\n",
    "$$\n",
    "\\left|1-\\varphi(t)\\right| \\le |t|L+2\\mathbb{P}\\left(|X|\\ge L\\right)\n",
    "$$"
   ]
  },
  {
   "cell_type": "markdown",
   "id": "stupid-interim",
   "metadata": {},
   "source": [
    "<img src=\"img/Screen Shot 2021-09-24 at 2.39.14 PM.png\" width=\"100%\">\n",
    "<img src=\"img/Screen Shot 2021-09-24 at 2.39.31 PM.png\" width=\"100%\">\n",
    "<img src=\"img/Screen Shot 2021-09-24 at 2.40.12 PM.png\" width=\"100%\">\n",
    "\n",
    "[Sun](https://drive.google.com/file/d/1L8APEYPnh-PQqAb0X0t0TYtd1g--ZzmC/view)"
   ]
  },
  {
   "cell_type": "code",
   "execution_count": null,
   "id": "blind-replacement",
   "metadata": {},
   "outputs": [],
   "source": []
  }
 ],
 "metadata": {
  "kernelspec": {
   "display_name": "Python 3",
   "language": "python",
   "name": "python3"
  },
  "language_info": {
   "codemirror_mode": {
    "name": "ipython",
    "version": 3
   },
   "file_extension": ".py",
   "mimetype": "text/x-python",
   "name": "python",
   "nbconvert_exporter": "python",
   "pygments_lexer": "ipython3",
   "version": "3.7.10"
  }
 },
 "nbformat": 4,
 "nbformat_minor": 5
}
