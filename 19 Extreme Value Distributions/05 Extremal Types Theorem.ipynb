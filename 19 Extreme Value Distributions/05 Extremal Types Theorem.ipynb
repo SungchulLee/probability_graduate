{
 "cells": [
  {
   "cell_type": "markdown",
   "metadata": {},
   "source": [
    "<img src='img/Screen Shot 2021-11-02 at 10.37.15 PM.png'>\n",
    "\n",
    "[Sun](https://drive.google.com/file/d/10jiERs-I4co7eb5o60qJ0TfsdR_ah3dW/view)"
   ]
  },
  {
   "cell_type": "markdown",
   "metadata": {},
   "source": [
    "<img src='img/Screen Shot 2021-11-02 at 10.46.26 PM.png'>\n",
    "<img src='img/Screen Shot 2021-11-02 at 10.46.42 PM.png'>\n",
    "<img src='img/Screen Shot 2021-11-02 at 10.47.06 PM.png'>\n",
    "<img src='img/Screen Shot 2021-11-02 at 10.47.22 PM.png'>\n",
    "<img src='img/Screen Shot 2021-11-02 at 10.47.49 PM.png'>\n",
    "<img src='img/Screen Shot 2021-11-02 at 10.48.07 PM.png'>\n",
    "<img src='img/Screen Shot 2021-11-02 at 10.48.39 PM.png'>\n",
    "\n",
    "[Sun](https://drive.google.com/file/d/10jiERs-I4co7eb5o60qJ0TfsdR_ah3dW/view)"
   ]
  }
 ],
 "metadata": {
  "kernelspec": {
   "display_name": "Python 3",
   "language": "python",
   "name": "python3"
  },
  "language_info": {
   "codemirror_mode": {
    "name": "ipython",
    "version": 3
   },
   "file_extension": ".py",
   "mimetype": "text/x-python",
   "name": "python",
   "nbconvert_exporter": "python",
   "pygments_lexer": "ipython3",
   "version": "3.8.8"
  }
 },
 "nbformat": 4,
 "nbformat_minor": 4
}
