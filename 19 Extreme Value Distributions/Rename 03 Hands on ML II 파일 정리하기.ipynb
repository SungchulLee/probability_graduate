{
 "cells": [
  {
   "cell_type": "code",
   "execution_count": 3,
   "id": "7aa31ba8",
   "metadata": {},
   "outputs": [],
   "source": [
    "old_name = '10'\n",
    "new_name = '07'\n",
    "\n",
    "import os\n",
    "lst = [name for name in os.listdir() if old_name in name]\n",
    "for old_file_name in lst:\n",
    "    new_file_name = old_file_name.replace(old_name, new_name) \n",
    "    os.rename(old_file_name, new_file_name)"
   ]
  },
  {
   "cell_type": "code",
   "execution_count": null,
   "id": "ac41d52d",
   "metadata": {},
   "outputs": [],
   "source": []
  }
 ],
 "metadata": {
  "kernelspec": {
   "display_name": "Python 3",
   "language": "python",
   "name": "python3"
  },
  "language_info": {
   "codemirror_mode": {
    "name": "ipython",
    "version": 3
   },
   "file_extension": ".py",
   "mimetype": "text/x-python",
   "name": "python",
   "nbconvert_exporter": "python",
   "pygments_lexer": "ipython3",
   "version": "3.8.8"
  }
 },
 "nbformat": 4,
 "nbformat_minor": 5
}
