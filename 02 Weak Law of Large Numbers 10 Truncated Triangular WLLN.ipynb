{
 "cells": [
  {
   "cell_type": "markdown",
   "metadata": {},
   "source": [
    "$$\\begin{array}{lll}\n",
    "\\text{Main Tool} &:& \\text{Truncation with Moving Truncation Level}\n",
    "\\end{array}$$"
   ]
  },
  {
   "cell_type": "markdown",
   "metadata": {},
   "source": [
    "<img src='img/Screen Shot 2021-09-10 at 9.40.20 AM.png'>\n",
    "<img src='img/Screen Shot 2021-09-10 at 9.40.46 AM.png'>\n",
    "<img src='img/Screen Shot 2021-09-10 at 9.41.42 AM.png'>\n",
    "\n",
    "[Durrett](https://services.math.duke.edu/~rtd/PTE/PTE5_011119.pdf)"
   ]
  },
  {
   "cell_type": "code",
   "execution_count": null,
   "metadata": {},
   "outputs": [],
   "source": []
  }
 ],
 "metadata": {
  "kernelspec": {
   "display_name": "Python 3",
   "language": "python",
   "name": "python3"
  },
  "language_info": {
   "codemirror_mode": {
    "name": "ipython",
    "version": 3
   },
   "file_extension": ".py",
   "mimetype": "text/x-python",
   "name": "python",
   "nbconvert_exporter": "python",
   "pygments_lexer": "ipython3",
   "version": "3.8.5"
  }
 },
 "nbformat": 4,
 "nbformat_minor": 4
}
