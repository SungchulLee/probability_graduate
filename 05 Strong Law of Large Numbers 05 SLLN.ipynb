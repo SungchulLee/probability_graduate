{
 "cells": [
  {
   "cell_type": "markdown",
   "metadata": {},
   "source": [
    "<img src='img/Screen Shot 2021-09-19 at 10.40.01 PM.png'>\n",
    "\n",
    "[Durrett](https://services.math.duke.edu/~rtd/PTE/PTE5_011119.pdf)"
   ]
  },
  {
   "cell_type": "markdown",
   "metadata": {},
   "source": [
    "# Step 1 : Truncation\n",
    "$$\n",
    "\\displaystyle Y_k=X_k1(|X_k|\\le k)\n",
    "$$\n",
    "\n",
    "<img src='img/Screen Shot 2021-09-19 at 10.40.15 PM.png'>\n",
    "\n",
    "[Durrett](https://services.math.duke.edu/~rtd/PTE/PTE5_011119.pdf)"
   ]
  },
  {
   "cell_type": "markdown",
   "metadata": {},
   "source": [
    "# Step 2: Variance Estimation\n",
    "$$\n",
    "\\displaystyle \\sum_{k=1}^\\infty \\frac{Var(Y_k)}{k^2}\\le 4\\mathbb{E}|X_1|<\\infty\n",
    "$$\n",
    "\n",
    "<img src='img/Screen Shot 2021-09-19 at 10.40.29 PM.png'>\n",
    "\n",
    "[Durrett](https://services.math.duke.edu/~rtd/PTE/PTE5_011119.pdf)"
   ]
  },
  {
   "cell_type": "markdown",
   "metadata": {},
   "source": [
    "# Step 3: Kolmogorov’s Two Series Theorem\n",
    "$$\n",
    "\\displaystyle \\sum_{k=1}^\\infty \\frac{Y_k-\\mathbb{E}Y_k}{k}\\text{ converges a.s.}\n",
    "$$\n",
    "\n",
    "<img src='img/Screen Shot 2021-09-19 at 10.44.26 PM.png'>\n",
    "\n",
    "[Durrett](https://services.math.duke.edu/~rtd/PTE/PTE5_011119.pdf)"
   ]
  },
  {
   "cell_type": "markdown",
   "metadata": {},
   "source": [
    "# Step 4: Kronecker’s Lemma\n",
    "$$\n",
    "\\displaystyle n^{-1}\\sum_{k=1}^n \\left(Y_k-\\mathbb{E}Y_k\\right)\\rightarrow 0\\text{ a.s.}\n",
    "$$\n",
    "\n",
    "<img src='img/Screen Shot 2021-09-19 at 10.44.51 PM.png'>\n",
    "\n",
    "[Durrett](https://services.math.duke.edu/~rtd/PTE/PTE5_011119.pdf)"
   ]
  },
  {
   "cell_type": "markdown",
   "metadata": {},
   "source": [
    "# Step 5: DCT\n",
    "$$\n",
    "\\displaystyle n^{-1}\\sum_{k=1}^n Y_k\\rightarrow \\mathbb{E}X_1\\text{ a.s.}\n",
    "$$\n",
    "\n",
    "<img src='img/Screen Shot 2021-09-19 at 10.41.02 PM.png'>\n",
    "\n",
    "[Durrett](https://services.math.duke.edu/~rtd/PTE/PTE5_011119.pdf)"
   ]
  },
  {
   "cell_type": "code",
   "execution_count": null,
   "metadata": {},
   "outputs": [],
   "source": []
  }
 ],
 "metadata": {
  "kernelspec": {
   "display_name": "Python 3",
   "language": "python",
   "name": "python3"
  },
  "language_info": {
   "codemirror_mode": {
    "name": "ipython",
    "version": 3
   },
   "file_extension": ".py",
   "mimetype": "text/x-python",
   "name": "python",
   "nbconvert_exporter": "python",
   "pygments_lexer": "ipython3",
   "version": "3.8.5"
  }
 },
 "nbformat": 4,
 "nbformat_minor": 4
}
