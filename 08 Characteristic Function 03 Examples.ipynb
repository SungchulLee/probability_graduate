{
 "cells": [
  {
   "cell_type": "markdown",
   "id": "sunrise-jewelry",
   "metadata": {},
   "source": [
    "$$\\begin{array}{llllllllll}\n",
    "\\text{Name}&&\\text{PDF or PMF}&&\\text{Characteristic Function}\\\\\n",
    "\\displaystyle \\text{Point Mass}&&\\displaystyle\\mathbb{P}(X=a)=1&&\\displaystyle e^{ita}\\\\\n",
    "\\displaystyle \\text{Fair Coin}&&\\displaystyle\\mathbb{P}(X=1)=\\mathbb{P}(X=-1)=\\frac{1}{2}&&\\displaystyle \\cos t\\\\\n",
    "\\end{array}$$"
   ]
  },
  {
   "cell_type": "markdown",
   "id": "simplified-master",
   "metadata": {},
   "source": [
    "$$\\begin{array}{llllllllll}\n",
    "\\text{Name}&&\\text{PDF or PMF}&&\\text{Characteristic Function}\\\\\n",
    "\\displaystyle \\text{Normal Distribution}&&\\displaystyle \\frac{1}{\\sqrt{2\\pi}}e^{-x^2/2}&&\\displaystyle e^{-t^2/2}\\\\\n",
    "\\end{array}$$"
   ]
  },
  {
   "cell_type": "markdown",
   "id": "closed-flashing",
   "metadata": {},
   "source": [
    "$$\\begin{array}{llllllllll}\n",
    "\\text{Name}&&\\text{PDF or PMF}&&\\text{Characteristic Function}\\\\\n",
    "\\displaystyle \\text{$Po(\\lambda)$}&&&&\\displaystyle e^{-\\lambda(1-e^{it})}\\\\\n",
    "\\displaystyle \\text{$Po(\\lambda,\\psi)$}&&\\displaystyle X=\\sum_{k=1}^TY_k,\\ T\\sim Po(\\lambda),\\ \\mathbb{E}e^{iY_kt}=\\psi(t)&&\\displaystyle e^{-\\lambda(1-\\psi(t))}\\\\\n",
    "\\end{array}$$"
   ]
  },
  {
   "cell_type": "markdown",
   "id": "seasonal-combat",
   "metadata": {},
   "source": [
    "$$\\begin{array}{llllllllll}\n",
    "\\text{Name}&&\\text{PDF or PMF}&&\\text{Characteristic Function}\\\\\n",
    "\\displaystyle \\text{Uniform Distribution}&&\\displaystyle \\frac{1}{b-a}\\quad\\text{for $a<x<b$}&&\\displaystyle \\frac{e^{itb}-e^{ita}}{it(b-a)}\\\\\n",
    "\\displaystyle U(-1/2,1/2)&&\\displaystyle 1\\quad\\text{for $-1/2<x<1/2$}&&\\displaystyle \\frac{\\sin \\frac{1}{2}t}{\\frac{1}{2}t}\\\\\n",
    "\\displaystyle \\text{Triangular Distribution}&&\\displaystyle (1-|x|)^+&&\\displaystyle 2\\frac{1-\\cos t}{t^2}\\\\\n",
    "\\displaystyle \\text{Polya's Distribution}&&\\displaystyle \\frac{1-\\cos x}{\\pi x^2}&&\\displaystyle (1-|t|)^+\\\\\n",
    "\\end{array}$$"
   ]
  },
  {
   "cell_type": "markdown",
   "id": "furnished-pharmaceutical",
   "metadata": {},
   "source": [
    "$$\\begin{array}{llllllllll}\n",
    "\\text{Name}&&\\text{PDF or PMF}&&\\text{Characteristic Function}\\\\\n",
    "\\displaystyle \\text{Exponential Distribution}&&\\displaystyle e^{-x}\\quad\\text{for $x>0$}&&\\displaystyle \\frac{1}{1-it}\\\\\n",
    "\\displaystyle \\text{Bilateral Distribution}&&\\displaystyle \\frac{1}{2}e^{-|x|}&&\\displaystyle \\frac{1}{1+t^2}\\\\\n",
    "\\displaystyle \\text{Cauchy Distribution}&&\\displaystyle \\frac{1}{\\pi}\\frac{1}{1+x^2}&&\\displaystyle e^{-|t|}\\\\\n",
    "\\end{array}$$"
   ]
  },
  {
   "cell_type": "markdown",
   "id": "optional-moisture",
   "metadata": {},
   "source": []
  },
  {
   "cell_type": "code",
   "execution_count": null,
   "id": "logical-style",
   "metadata": {},
   "outputs": [],
   "source": []
  }
 ],
 "metadata": {
  "kernelspec": {
   "display_name": "Python 3",
   "language": "python",
   "name": "python3"
  },
  "language_info": {
   "codemirror_mode": {
    "name": "ipython",
    "version": 3
   },
   "file_extension": ".py",
   "mimetype": "text/x-python",
   "name": "python",
   "nbconvert_exporter": "python",
   "pygments_lexer": "ipython3",
   "version": "3.7.10"
  }
 },
 "nbformat": 4,
 "nbformat_minor": 5
}
