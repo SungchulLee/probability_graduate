{
 "cells": [
  {
   "cell_type": "markdown",
   "metadata": {},
   "source": [
    "$$\\begin{array}{llllllllll}\n",
    "\\text{Name}&&\\text{PDF or PMF}&&\\text{Characteristic Function}\\\\\n",
    "\\displaystyle \\text{$Po(\\lambda)$}&&&&\\displaystyle e^{-\\lambda(1-e^{it})}\\\\\n",
    "\\displaystyle \\text{$Po(\\lambda,\\psi)$}&&\\displaystyle X=\\sum_{k=1}^TY_k,\\ T\\sim Po(\\lambda),\\ \\mathbb{E}e^{iY_kt}=\\psi(t)&&\\displaystyle e^{-\\lambda(1-\\psi(t))}\\\\\n",
    "\\end{array}$$"
   ]
  },
  {
   "cell_type": "markdown",
   "metadata": {},
   "source": [
    "$$\\begin{array}{ccccccccccccccc}\n",
    "exp&(&\\lambda&(&\\psi(t)&-&1&)&)\\\\\n",
    "&&\\uparrow&&\\uparrow&&\\\\\n",
    "&&\\text{Intensity of Po}&&\\text{Chf of $Y_k$}&&\\\\\n",
    "\\end{array}$$"
   ]
  },
  {
   "cell_type": "markdown",
   "metadata": {},
   "source": [
    "<img src='img/Screen Shot 2021-10-28 at 3.31.19 PM.png'>\n",
    "\n",
    "[Sun](https://drive.google.com/file/d/1-NXH-S5Ossc6-os5nT6o6Hcqw_YV5Ajy/view)"
   ]
  },
  {
   "cell_type": "markdown",
   "metadata": {},
   "source": [
    "$$\n",
    "\\mathbb{E}Y_{n,i}\n",
    "=a_{n,i}+\\mathbb{E}\\left[\\sum_{j=1}^{N_{n,i}}\\tilde{X}^{(j)}_{n,i}\\right]\n",
    "=a_{n,i}+\\mathbb{E}\\left[\\tilde{X}^{(1)}_{n,i}\\right]\n",
    "=a_{n,i}+\\mathbb{E}\\left[X_{n,i}-a_{n,i}\\right]\n",
    "=\\mathbb{E}\\left[X_{n,i}\\right]\n",
    "$$"
   ]
  },
  {
   "cell_type": "markdown",
   "metadata": {},
   "source": [
    "$$\\begin{array}{ccccccccccccccc}\n",
    "\\phi_{n,i}(t)=1-(1-\\phi_{n,i}(t))\\approx e^{-(1-\\phi_{n,i}(t))}=exp&(&-&1&(&1&-&\\phi_{n,i}(t)&)&)\\\\\n",
    "&&&\\uparrow&&&&\\uparrow&&\\\\\n",
    "&&&\\text{Intensity of Po}&&&&\\text{Chf of $Y_k$}&&\\\\\n",
    "\\end{array}$$"
   ]
  },
  {
   "cell_type": "markdown",
   "metadata": {},
   "source": [
    "<img src='img/Screen Shot 2021-10-30 at 11.28.42 AM.png'>\n",
    "\n",
    "\n",
    "[Sun](https://drive.google.com/file/d/1-NXH-S5Ossc6-os5nT6o6Hcqw_YV5Ajy/view)"
   ]
  },
  {
   "cell_type": "markdown",
   "metadata": {},
   "source": [
    "<img src='img/Screen Shot 2021-10-30 at 1.32.30 PM.png'>\n",
    "\n",
    "[Sun](https://drive.google.com/file/d/1-NXH-S5Ossc6-os5nT6o6Hcqw_YV5Ajy/view)"
   ]
  },
  {
   "cell_type": "markdown",
   "metadata": {},
   "source": [
    "<img src='img/Screen Shot 2021-10-30 at 1.33.35 PM.png'>\n",
    "<img src='img/Screen Shot 2021-10-30 at 1.33.47 PM.png'>\n",
    "\n",
    "[Sun](https://drive.google.com/file/d/1-NXH-S5Ossc6-os5nT6o6Hcqw_YV5Ajy/view)"
   ]
  },
  {
   "cell_type": "markdown",
   "metadata": {},
   "source": [
    "<img src='img/Screen Shot 2021-10-30 at 11.32.12 AM.png'>\n",
    "\n",
    "[Sun](https://drive.google.com/file/d/1-NXH-S5Ossc6-os5nT6o6Hcqw_YV5Ajy/view)"
   ]
  },
  {
   "cell_type": "markdown",
   "metadata": {},
   "source": [
    "<img src='img/Screen Shot 2021-10-30 at 1.47.07 PM.png'>\n",
    "\n",
    "[Sun](https://drive.google.com/file/d/1-NXH-S5Ossc6-os5nT6o6Hcqw_YV5Ajy/view)"
   ]
  },
  {
   "cell_type": "markdown",
   "metadata": {},
   "source": [
    "\n",
    "<img src='img/Screen Shot 2021-10-30 at 1.49.09 PM.png'>\n",
    "\n",
    "[Sun](https://drive.google.com/file/d/1-NXH-S5Ossc6-os5nT6o6Hcqw_YV5Ajy/view)"
   ]
  },
  {
   "cell_type": "markdown",
   "metadata": {},
   "source": [
    "<img src='img/Screen Shot 2021-10-30 at 11.33.35 AM.png'>\n",
    "\n",
    "[Sun](https://drive.google.com/file/d/1-NXH-S5Ossc6-os5nT6o6Hcqw_YV5Ajy/view)"
   ]
  },
  {
   "cell_type": "markdown",
   "metadata": {},
   "source": [
    "<img src='img/Screen Shot 2021-10-30 at 1.53.40 PM.png'>\n",
    "\n",
    "[Sun](https://drive.google.com/file/d/1-NXH-S5Ossc6-os5nT6o6Hcqw_YV5Ajy/view)"
   ]
  },
  {
   "cell_type": "markdown",
   "metadata": {},
   "source": [
    "<img src='img/Screen Shot 2021-10-30 at 2.12.49 PM.png'>\n",
    "\n",
    "[Sun](https://drive.google.com/file/d/1-NXH-S5Ossc6-os5nT6o6Hcqw_YV5Ajy/view)"
   ]
  },
  {
   "cell_type": "markdown",
   "metadata": {},
   "source": [
    "<img src='img/Screen Shot 2021-10-30 at 2.21.35 PM.png'>\n",
    "\n",
    "[Sun](https://drive.google.com/file/d/1-NXH-S5Ossc6-os5nT6o6Hcqw_YV5Ajy/view)"
   ]
  },
  {
   "cell_type": "markdown",
   "metadata": {},
   "source": [
    "<img src='img/Screen Shot 2021-10-30 at 2.50.40 PM.png'>\n",
    "<img src='img/Screen Shot 2021-10-30 at 2.51.24 PM.png'>\n",
    "\n",
    "[Sun](https://drive.google.com/file/d/1-NXH-S5Ossc6-os5nT6o6Hcqw_YV5Ajy/view)"
   ]
  },
  {
   "cell_type": "markdown",
   "metadata": {},
   "source": [
    "<img src='img/Screen Shot 2021-10-30 at 2.57.13 PM.png'>\n",
    "\n",
    "[Sun](https://drive.google.com/file/d/1-NXH-S5Ossc6-os5nT6o6Hcqw_YV5Ajy/view)"
   ]
  },
  {
   "cell_type": "markdown",
   "metadata": {},
   "source": [
    "<img src='img/Screen Shot 2021-10-30 at 3.01.00 PM.png'>\n",
    "\n",
    "[Sun](https://drive.google.com/file/d/1-NXH-S5Ossc6-os5nT6o6Hcqw_YV5Ajy/view)"
   ]
  },
  {
   "cell_type": "markdown",
   "metadata": {},
   "source": [
    "<img src='img/Screen Shot 2021-10-30 at 4.14.45 PM.png'>\n",
    "<img src='img/Screen Shot 2021-10-30 at 4.14.56 PM.png'>\n",
    "\n",
    "[Sun](https://drive.google.com/file/d/1-NXH-S5Ossc6-os5nT6o6Hcqw_YV5Ajy/view)"
   ]
  },
  {
   "cell_type": "code",
   "execution_count": null,
   "metadata": {},
   "outputs": [],
   "source": []
  }
 ],
 "metadata": {
  "kernelspec": {
   "display_name": "Python 3",
   "language": "python",
   "name": "python3"
  },
  "language_info": {
   "codemirror_mode": {
    "name": "ipython",
    "version": 3
   },
   "file_extension": ".py",
   "mimetype": "text/x-python",
   "name": "python",
   "nbconvert_exporter": "python",
   "pygments_lexer": "ipython3",
   "version": "3.8.5"
  }
 },
 "nbformat": 4,
 "nbformat_minor": 5
}
