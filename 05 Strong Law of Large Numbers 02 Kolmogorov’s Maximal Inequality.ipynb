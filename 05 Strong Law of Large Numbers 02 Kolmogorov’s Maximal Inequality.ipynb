{
 "cells": [
  {
   "cell_type": "markdown",
   "metadata": {},
   "source": [
    "# Chebyshev's Inequality\n",
    "For $S_n=X_1+\\cdots+X_n$\n",
    "$$\n",
    "\\mathbb{P}\\left(\\left|S_n-\\mathbb{E}S_n\\right|\\ge x\\right)\\le \\frac{Var(S_n)}{x^2}\n",
    "$$"
   ]
  },
  {
   "cell_type": "markdown",
   "metadata": {},
   "source": [
    "# Wrong Statement\n",
    "For $S_k=X_1+\\cdots+X_k$\n",
    "$$\n",
    "\\mathbb{P}\\left(\\max_{1\\le k\\le n}\\left|S_k-\\mathbb{E}S_k\\right|\\ge x\\right)\\le \\frac{Var(S_n)}{x^2}\n",
    "$$"
   ]
  },
  {
   "cell_type": "markdown",
   "metadata": {},
   "source": [
    "# Correct Statement\n",
    "For $S_k=X_1+\\cdots+X_k$\n",
    "$$\\begin{array}{lcl}\n",
    "\\displaystyle \\mathbb{P}\\left(\\max_{1\\le k\\le n}\\left|S_k-\\mathbb{E}S_k\\right|\\ge x\\right)\n",
    "&\\le&\\displaystyle\\frac{Var(S_n)}{x^2}\\\\\n",
    "&\\uparrow&\\\\\n",
    "&\\text{$X_i$ are independent}&\\\\\n",
    "\\end{array}$$"
   ]
  },
  {
   "cell_type": "markdown",
   "metadata": {},
   "source": [
    "<img src='img/Screen Shot 2021-09-18 at 11.33.06 AM.png'>\n",
    "\n",
    "[Durrett](https://services.math.duke.edu/~rtd/PTE/PTE5_011119.pdf)"
   ]
  },
  {
   "cell_type": "code",
   "execution_count": null,
   "metadata": {},
   "outputs": [],
   "source": []
  }
 ],
 "metadata": {
  "kernelspec": {
   "display_name": "Python 3",
   "language": "python",
   "name": "python3"
  },
  "language_info": {
   "codemirror_mode": {
    "name": "ipython",
    "version": 3
   },
   "file_extension": ".py",
   "mimetype": "text/x-python",
   "name": "python",
   "nbconvert_exporter": "python",
   "pygments_lexer": "ipython3",
   "version": "3.8.5"
  }
 },
 "nbformat": 4,
 "nbformat_minor": 4
}
