{
 "cells": [
  {
   "cell_type": "markdown",
   "metadata": {},
   "source": [
    "# Wrong Statement\n",
    "$$\\begin{array}{lllll}\n",
    "\\text{1st Borel-Cantelli Lemma}&&\\sum_{n=1}^\\infty\\mathbb{P}\\left(A_n\\right)<\\infty&\\Rightarrow&\\mathbb{P}\\left(A_n \\text{ i.o.}\\right)=0\\\\\n",
    "\\\\\n",
    "\\text{2nd Borel-Cantelli Lemma}&&\\sum_{n=1}^\\infty\\mathbb{P}\\left(A_n\\right)=\\infty&\\Rightarrow&\\mathbb{P}\\left(A_n \\text{ i.o.}\\right)=1\\\\\n",
    "\\end{array}$$"
   ]
  },
  {
   "cell_type": "markdown",
   "metadata": {},
   "source": [
    "Suppose we flip a fair coin once and let $A_n$ be the event that the very first coin lands on head. In this case\n",
    "$$\n",
    "A_1=A_2=A_3=A_4=\\cdots\n",
    "$$\n",
    "and\n",
    "$$\n",
    "\\left\\{A_n \\text{ i.o.}\\right\\}=A_1\n",
    "$$\n",
    "So, \n",
    "$$\n",
    "\\sum_{n=1}^\\infty\\mathbb{P}\\left(A_n\\right)=\\infty\\quad\\text{but}\\quad\\mathbb{P}\\left(A_n \\text{ i.o.}\\right)=\\mathbb{P}\\left(A_1\\right)=\\frac{1}{2}\n",
    "$$\n",
    "So, the above statement of the 2nd Borel-Cantelli lemma is not correct. We need an independence of $A_n$."
   ]
  },
  {
   "cell_type": "markdown",
   "metadata": {},
   "source": [
    "# Correct Statement\n",
    "$$\\begin{array}{lllcl}\n",
    "\\text{1st Borel-Cantelli Lemma}&&\\sum_{n=1}^\\infty\\mathbb{P}\\left(A_n\\right)<\\infty&\\Rightarrow&\\mathbb{P}\\left(A_n \\text{ i.o.}\\right)=0\\\\\n",
    "\\\\\n",
    "\\text{2nd Borel-Cantelli Lemma}&&\\sum_{n=1}^\\infty\\mathbb{P}\\left(A_n\\right)=\\infty&\\Rightarrow&\\mathbb{P}\\left(A_n \\text{ i.o.}\\right)=1\\\\\n",
    "&&&\\uparrow&\\\\\n",
    "&&&\\text{$A_n$ are independent}&\\\\\n",
    "\\end{array}$$"
   ]
  },
  {
   "cell_type": "markdown",
   "metadata": {},
   "source": [
    "<img src='img/Screen Shot 2021-09-10 at 10.28.49 AM.png'>\n",
    "\n",
    "[Durrett](https://services.math.duke.edu/~rtd/PTE/PTE5_011119.pdf)"
   ]
  },
  {
   "cell_type": "code",
   "execution_count": null,
   "metadata": {},
   "outputs": [],
   "source": []
  }
 ],
 "metadata": {
  "kernelspec": {
   "display_name": "Python 3",
   "language": "python",
   "name": "python3"
  },
  "language_info": {
   "codemirror_mode": {
    "name": "ipython",
    "version": 3
   },
   "file_extension": ".py",
   "mimetype": "text/x-python",
   "name": "python",
   "nbconvert_exporter": "python",
   "pygments_lexer": "ipython3",
   "version": "3.8.5"
  }
 },
 "nbformat": 4,
 "nbformat_minor": 4
}
