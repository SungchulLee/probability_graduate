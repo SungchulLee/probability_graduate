{
 "cells": [
  {
   "cell_type": "markdown",
   "metadata": {},
   "source": [
    "<img src='img/Screen Shot 2021-09-08 at 6.17.10 AM.png'>\n",
    "<img src='img/Screen Shot 2021-09-08 at 6.18.07 AM.png'>\n",
    "<img src='img/Screen Shot 2021-09-08 at 6.18.16 AM.png'>\n",
    "<img src='img/Screen Shot 2021-09-08 at 6.18.41 AM.png'>\n",
    "\n",
    "[Rongfeng Sun](https://drive.google.com/file/d/1ajZ02x3n0IL_393sXG5xkX1Ye39tnifm/view)"
   ]
  },
  {
   "cell_type": "markdown",
   "metadata": {},
   "source": [
    "<img src='img/Screen Shot 2021-09-08 at 6.22.28 AM.png'>\n",
    "\n",
    "[Durrett](https://drive.google.com/file/d/1ajZ02x3n0IL_393sXG5xkX1Ye39tnifm/view)"
   ]
  },
  {
   "cell_type": "code",
   "execution_count": null,
   "metadata": {},
   "outputs": [],
   "source": []
  }
 ],
 "metadata": {
  "kernelspec": {
   "display_name": "Python 3",
   "language": "python",
   "name": "python3"
  },
  "language_info": {
   "codemirror_mode": {
    "name": "ipython",
    "version": 3
   },
   "file_extension": ".py",
   "mimetype": "text/x-python",
   "name": "python",
   "nbconvert_exporter": "python",
   "pygments_lexer": "ipython3",
   "version": "3.8.5"
  }
 },
 "nbformat": 4,
 "nbformat_minor": 4
}
